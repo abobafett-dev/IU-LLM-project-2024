{
 "cells": [
  {
   "cell_type": "code",
   "id": "initial_id",
   "metadata": {
    "collapsed": true,
    "ExecuteTime": {
     "end_time": "2024-07-22T17:36:56.548390Z",
     "start_time": "2024-07-22T17:36:07.587899Z"
    }
   },
   "source": [
    "from scripts.pipeline_tags import PipelineTags\n",
    "import pandas as pd\n",
    "\n",
    "df = pd.read_csv(\"../datasets/translated_dataframe.csv\")\n",
    "\n",
    "generator = PipelineTags(load_in_4_bit=True)"
   ],
   "outputs": [
    {
     "name": "stderr",
     "output_type": "stream",
     "text": [
      "Special tokens have been added in the vocabulary, make sure the associated word embeddings are fine-tuned or trained.\n"
     ]
    },
    {
     "data": {
      "text/plain": [
       "Loading checkpoint shards:   0%|          | 0/4 [00:00<?, ?it/s]"
      ],
      "application/vnd.jupyter.widget-view+json": {
       "version_major": 2,
       "version_minor": 0,
       "model_id": "5e7aa8b89f264596af08baaf9aa0da88"
      }
     },
     "metadata": {},
     "output_type": "display_data"
    },
    {
     "name": "stderr",
     "output_type": "stream",
     "text": [
      "C:\\Users\\sasha\\Desktop\\Innopolis\\IU-LLM-project-2024\\.venv\\Lib\\site-packages\\peft\\tuners\\lora\\bnb.py:325: UserWarning: Merge lora module to 4-bit linear may get different generations due to rounding errors.\n",
      "  warnings.warn(\n"
     ]
    }
   ],
   "execution_count": 1
  },
  {
   "metadata": {
    "ExecuteTime": {
     "end_time": "2024-07-22T17:37:00.042571Z",
     "start_time": "2024-07-22T17:36:56.548390Z"
    }
   },
   "cell_type": "code",
   "source": [
    "sample = df.sample(1).iloc[0]\n",
    "print(sample)\n",
    "generated = generator.predict_tags(\n",
    "    title=sample['title'],\n",
    "    subtitle=sample['subtitle'],\n",
    "    description=sample['description']\n",
    ")\n",
    "print(generated)"
   ],
   "id": "936487920fa83093",
   "outputs": [
    {
     "name": "stdout",
     "output_type": "stream",
     "text": [
      "title                        Multi-Labelled SMILES Odors dataset\n",
      "subtitle                        Make your own Principal Odor Map\n",
      "description    This dataset is a multi-labelled SMILES odor d...\n",
      "keyword 1                                         категориальные\n",
      "keyword 2                                                  химия\n",
      "keyword 3                                          биотехнологии\n",
      "keyword 4                     классификация по нескольким меткам\n",
      "keyword 5                                графовая нейронная сеть\n",
      "Name: 447, dtype: object\n"
     ]
    },
    {
     "name": "stderr",
     "output_type": "stream",
     "text": [
      "The attention mask is not set and cannot be inferred from input because pad token is same as eos token.As a consequence, you may observe unexpected behavior. Please pass your input's `attention_mask` to obtain reliable results.\n",
      "C:\\Users\\sasha\\Desktop\\Innopolis\\IU-LLM-project-2024\\.venv\\Lib\\site-packages\\transformers\\models\\llama\\modeling_llama.py:648: UserWarning: 1Torch was not compiled with flash attention. (Triggered internally at ..\\aten\\src\\ATen\\native\\transformers\\cuda\\sdp_utils.cpp:455.)\n",
      "  attn_output = torch.nn.functional.scaled_dot_product_attention(\n"
     ]
    },
    {
     "name": "stdout",
     "output_type": "stream",
     "text": [
      "{'Тип данных': [], 'Предметная область': ['искусственный интеллект', 'биология', 'химия'], 'География и достопримечательности': [], 'Техники': [], 'Задача': [], 'Язык': []}\n"
     ]
    }
   ],
   "execution_count": 2
  },
  {
   "metadata": {},
   "cell_type": "code",
   "outputs": [],
   "execution_count": null,
   "source": "",
   "id": "ab4af9187c04f601"
  }
 ],
 "metadata": {
  "kernelspec": {
   "display_name": "Python 3",
   "language": "python",
   "name": "python3"
  },
  "language_info": {
   "codemirror_mode": {
    "name": "ipython",
    "version": 2
   },
   "file_extension": ".py",
   "mimetype": "text/x-python",
   "name": "python",
   "nbconvert_exporter": "python",
   "pygments_lexer": "ipython2",
   "version": "2.7.6"
  }
 },
 "nbformat": 4,
 "nbformat_minor": 5
}
