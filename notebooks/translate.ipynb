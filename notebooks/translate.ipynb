{
 "cells": [
  {
   "cell_type": "code",
   "id": "initial_id",
   "metadata": {
    "collapsed": true,
    "ExecuteTime": {
     "end_time": "2024-07-16T11:06:39.509294Z",
     "start_time": "2024-07-16T11:06:39.003761Z"
    }
   },
   "source": [
    "import pandas as pd\n",
    "\n",
    "def load_translation_dict(english_file, russian_file):\n",
    "    with open(english_file, 'r', encoding='utf-8') as eng_file:\n",
    "        english_words = [line.strip().lower() for line in eng_file]\n",
    "    with open(russian_file, 'r', encoding='utf-8') as rus_file:\n",
    "        russian_words = [line.strip().lower() for line in rus_file]\n",
    "\n",
    "    translation_dict = {eng: rus for eng, rus in zip(english_words, russian_words)}\n",
    "    return translation_dict\n",
    "\n",
    "df = pd.read_csv('../datasets/kaggle_metadata_parse_by_tags.csv')\n",
    "\n",
    "def translate_values_in_columns(df, columns_to_translate, translation_dict):\n",
    "    for col in columns_to_translate:\n",
    "        df[col] = df[col].map(translation_dict).fillna(df[col])\n",
    "    return df\n",
    "\n",
    "columns_to_translate = ['keyword 1', 'keyword 2', 'keyword 3', 'keyword 4', 'keyword 5']\n",
    "\n",
    "english_file = '../tags_en.txt'\n",
    "russian_file = '../tags_ru.txt'\n",
    "\n",
    "translation_dict = load_translation_dict(english_file, russian_file)\n",
    "df_translated = translate_values_in_columns(df, columns_to_translate, translation_dict)\n",
    "df_translated.to_csv('../datasets/translated_dataframe.csv', index=False)"
   ],
   "outputs": [],
   "execution_count": 1
  },
  {
   "metadata": {},
   "cell_type": "code",
   "outputs": [],
   "execution_count": null,
   "source": "",
   "id": "d839ce92c6fba80c"
  }
 ],
 "metadata": {
  "kernelspec": {
   "display_name": "Python 3",
   "language": "python",
   "name": "python3"
  },
  "language_info": {
   "codemirror_mode": {
    "name": "ipython",
    "version": 2
   },
   "file_extension": ".py",
   "mimetype": "text/x-python",
   "name": "python",
   "nbconvert_exporter": "python",
   "pygments_lexer": "ipython2",
   "version": "2.7.6"
  }
 },
 "nbformat": 4,
 "nbformat_minor": 5
}
